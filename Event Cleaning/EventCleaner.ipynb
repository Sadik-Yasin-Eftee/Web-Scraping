{
 "cells": [
  {
   "cell_type": "code",
   "execution_count": 15,
   "metadata": {},
   "outputs": [],
   "source": [
    "import pandas as pd\n",
    "import re"
   ]
  },
  {
   "cell_type": "code",
   "execution_count": 17,
   "metadata": {},
   "outputs": [
    {
     "data": {
      "text/html": [
       "<div>\n",
       "<style scoped>\n",
       "    .dataframe tbody tr th:only-of-type {\n",
       "        vertical-align: middle;\n",
       "    }\n",
       "\n",
       "    .dataframe tbody tr th {\n",
       "        vertical-align: top;\n",
       "    }\n",
       "\n",
       "    .dataframe thead th {\n",
       "        text-align: right;\n",
       "    }\n",
       "</style>\n",
       "<table border=\"1\" class=\"dataframe\">\n",
       "  <thead>\n",
       "    <tr style=\"text-align: right;\">\n",
       "      <th></th>\n",
       "      <th>content</th>\n",
       "      <th>events_refined</th>\n",
       "    </tr>\n",
       "  </thead>\n",
       "  <tbody>\n",
       "    <tr>\n",
       "      <th>0</th>\n",
       "      <td>So many issues. I think every update just mess...</td>\n",
       "      <td>Below is the contents and the events which are...</td>\n",
       "    </tr>\n",
       "    <tr>\n",
       "      <th>1</th>\n",
       "      <td>I use this app primarily to post content for m...</td>\n",
       "      <td>Below is the contents and the events which are...</td>\n",
       "    </tr>\n",
       "    <tr>\n",
       "      <th>2</th>\n",
       "      <td>This app has become so poor I'm so close to le...</td>\n",
       "      <td>Below is the contents and the events which are...</td>\n",
       "    </tr>\n",
       "    <tr>\n",
       "      <th>3</th>\n",
       "      <td>The android version has always been so buggy, ...</td>\n",
       "      <td>Below is the contents and the events which are...</td>\n",
       "    </tr>\n",
       "    <tr>\n",
       "      <th>4</th>\n",
       "      <td>Originally reported in 8/2023. STILL HAPPENING...</td>\n",
       "      <td>Below is the contents and the events which are...</td>\n",
       "    </tr>\n",
       "  </tbody>\n",
       "</table>\n",
       "</div>"
      ],
      "text/plain": [
       "                                             content  \\\n",
       "0  So many issues. I think every update just mess...   \n",
       "1  I use this app primarily to post content for m...   \n",
       "2  This app has become so poor I'm so close to le...   \n",
       "3  The android version has always been so buggy, ...   \n",
       "4  Originally reported in 8/2023. STILL HAPPENING...   \n",
       "\n",
       "                                      events_refined  \n",
       "0  Below is the contents and the events which are...  \n",
       "1  Below is the contents and the events which are...  \n",
       "2  Below is the contents and the events which are...  \n",
       "3  Below is the contents and the events which are...  \n",
       "4  Below is the contents and the events which are...  "
      ]
     },
     "execution_count": 17,
     "metadata": {},
     "output_type": "execute_result"
    }
   ],
   "source": [
    "df = pd.read_csv(\"../Generated Dataset/Events/Instagram Events.csv\")\n",
    "df.head()"
   ]
  },
  {
   "cell_type": "code",
   "execution_count": 19,
   "metadata": {},
   "outputs": [
    {
     "data": {
      "text/html": [
       "<div>\n",
       "<style scoped>\n",
       "    .dataframe tbody tr th:only-of-type {\n",
       "        vertical-align: middle;\n",
       "    }\n",
       "\n",
       "    .dataframe tbody tr th {\n",
       "        vertical-align: top;\n",
       "    }\n",
       "\n",
       "    .dataframe thead th {\n",
       "        text-align: right;\n",
       "    }\n",
       "</style>\n",
       "<table border=\"1\" class=\"dataframe\">\n",
       "  <thead>\n",
       "    <tr style=\"text-align: right;\">\n",
       "      <th></th>\n",
       "      <th>content</th>\n",
       "      <th>events_refined</th>\n",
       "    </tr>\n",
       "  </thead>\n",
       "  <tbody>\n",
       "    <tr>\n",
       "      <th>0</th>\n",
       "      <td>So many issues. I think every update just mess...</td>\n",
       "      <td></td>\n",
       "    </tr>\n",
       "    <tr>\n",
       "      <th>1</th>\n",
       "      <td>I use this app primarily to post content for m...</td>\n",
       "      <td></td>\n",
       "    </tr>\n",
       "    <tr>\n",
       "      <th>2</th>\n",
       "      <td>This app has become so poor I'm so close to le...</td>\n",
       "      <td>### events refined:\\n[Tagging people resets th...</td>\n",
       "    </tr>\n",
       "    <tr>\n",
       "      <th>3</th>\n",
       "      <td>The android version has always been so buggy, ...</td>\n",
       "      <td>### events refined:\\n[I open a link in someone...</td>\n",
       "    </tr>\n",
       "    <tr>\n",
       "      <th>4</th>\n",
       "      <td>Originally reported in 8/2023. STILL HAPPENING...</td>\n",
       "      <td>### events refined:\\n[ I must delete then rein...</td>\n",
       "    </tr>\n",
       "  </tbody>\n",
       "</table>\n",
       "</div>"
      ],
      "text/plain": [
       "                                             content  \\\n",
       "0  So many issues. I think every update just mess...   \n",
       "1  I use this app primarily to post content for m...   \n",
       "2  This app has become so poor I'm so close to le...   \n",
       "3  The android version has always been so buggy, ...   \n",
       "4  Originally reported in 8/2023. STILL HAPPENING...   \n",
       "\n",
       "                                      events_refined  \n",
       "0                                                     \n",
       "1                                                     \n",
       "2  ### events refined:\\n[Tagging people resets th...  \n",
       "3  ### events refined:\\n[I open a link in someone...  \n",
       "4  ### events refined:\\n[ I must delete then rein...  "
      ]
     },
     "execution_count": 19,
     "metadata": {},
     "output_type": "execute_result"
    }
   ],
   "source": [
    "def clean_events_refined(text):\n",
    "    # Remove the \"### content\" part\n",
    "    cleaned_text = re.sub(r\"### content:\\n.*?\\n### events refined:\", \"### events refined:\", text, flags=re.DOTALL)\n",
    "    return cleaned_text.strip()\n",
    "\n",
    "# Apply the cleaning function to the \"events_refined\" column\n",
    "df['events_refined'] = df['events_refined'].apply(clean_events_refined)\n",
    "df.head()"
   ]
  },
  {
   "cell_type": "code",
   "execution_count": null,
   "metadata": {},
   "outputs": [],
   "source": []
  },
  {
   "cell_type": "code",
   "execution_count": 10,
   "metadata": {},
   "outputs": [],
   "source": [
    "instagramEvents.to_csv(\"../Generated Dataset/Events/Instagram Events (Cleaned).csv\", index=False)"
   ]
  },
  {
   "cell_type": "code",
   "execution_count": null,
   "metadata": {},
   "outputs": [],
   "source": [
    "instagramEvents."
   ]
  }
 ],
 "metadata": {
  "kernelspec": {
   "display_name": "venv",
   "language": "python",
   "name": "python3"
  },
  "language_info": {
   "codemirror_mode": {
    "name": "ipython",
    "version": 3
   },
   "file_extension": ".py",
   "mimetype": "text/x-python",
   "name": "python",
   "nbconvert_exporter": "python",
   "pygments_lexer": "ipython3",
   "version": "3.10.11"
  }
 },
 "nbformat": 4,
 "nbformat_minor": 2
}
