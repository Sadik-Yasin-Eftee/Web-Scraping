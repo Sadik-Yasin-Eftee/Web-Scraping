{
 "cells": [
  {
   "cell_type": "code",
   "execution_count": 6,
   "metadata": {},
   "outputs": [],
   "source": [
    "import numpy as np\n",
    "import pandas as pd\n",
    "from reviewFilterPipeline import reviewFilter\n",
    "import os"
   ]
  },
  {
   "cell_type": "code",
   "execution_count": 3,
   "metadata": {},
   "outputs": [
    {
     "data": {
      "text/html": [
       "<div>\n",
       "<style scoped>\n",
       "    .dataframe tbody tr th:only-of-type {\n",
       "        vertical-align: middle;\n",
       "    }\n",
       "\n",
       "    .dataframe tbody tr th {\n",
       "        vertical-align: top;\n",
       "    }\n",
       "\n",
       "    .dataframe thead th {\n",
       "        text-align: right;\n",
       "    }\n",
       "</style>\n",
       "<table border=\"1\" class=\"dataframe\">\n",
       "  <thead>\n",
       "    <tr style=\"text-align: right;\">\n",
       "      <th></th>\n",
       "      <th>Review ID</th>\n",
       "      <th>Review Content</th>\n",
       "    </tr>\n",
       "  </thead>\n",
       "  <tbody>\n",
       "    <tr>\n",
       "      <th>0</th>\n",
       "      <td>725ba2e5-a049-4e73-9982-40b5c4bdc409</td>\n",
       "      <td>You rolled out a verification feature but yet ...</td>\n",
       "    </tr>\n",
       "    <tr>\n",
       "      <th>1</th>\n",
       "      <td>0bb5c5bc-4449-4173-93b7-0becb2c4d52f</td>\n",
       "      <td>Incredibly aggressive. There is no way to skip...</td>\n",
       "    </tr>\n",
       "    <tr>\n",
       "      <th>2</th>\n",
       "      <td>ef3cb9be-dc87-436e-844e-75e4a47b527b</td>\n",
       "      <td>App is nice until you need to upload a CV bigg...</td>\n",
       "    </tr>\n",
       "    <tr>\n",
       "      <th>3</th>\n",
       "      <td>c94df629-52f3-42fa-bc44-c16b01f69269</td>\n",
       "      <td>Something has broken in the app. It keeps prom...</td>\n",
       "    </tr>\n",
       "    <tr>\n",
       "      <th>4</th>\n",
       "      <td>936dab33-23cf-4ce9-90cb-600300043c1f</td>\n",
       "      <td>The App is full of annoying bugs like it is sh...</td>\n",
       "    </tr>\n",
       "  </tbody>\n",
       "</table>\n",
       "</div>"
      ],
      "text/plain": [
       "                              Review ID  \\\n",
       "0  725ba2e5-a049-4e73-9982-40b5c4bdc409   \n",
       "1  0bb5c5bc-4449-4173-93b7-0becb2c4d52f   \n",
       "2  ef3cb9be-dc87-436e-844e-75e4a47b527b   \n",
       "3  c94df629-52f3-42fa-bc44-c16b01f69269   \n",
       "4  936dab33-23cf-4ce9-90cb-600300043c1f   \n",
       "\n",
       "                                      Review Content  \n",
       "0  You rolled out a verification feature but yet ...  \n",
       "1  Incredibly aggressive. There is no way to skip...  \n",
       "2  App is nice until you need to upload a CV bigg...  \n",
       "3  Something has broken in the app. It keeps prom...  \n",
       "4  The App is full of annoying bugs like it is sh...  "
      ]
     },
     "execution_count": 3,
     "metadata": {},
     "output_type": "execute_result"
    }
   ],
   "source": [
    "df = pd.read_csv('../Data/linkedin_reviews.csv')\n",
    "df.head()"
   ]
  },
  {
   "cell_type": "code",
   "execution_count": 4,
   "metadata": {},
   "outputs": [],
   "source": [
    "keyphrases = ['after', 'before', 'as soon as', 'when', 'while', 'whenever', 'every time', 'until', 'then']"
   ]
  },
  {
   "cell_type": "code",
   "execution_count": 5,
   "metadata": {},
   "outputs": [
    {
     "data": {
      "text/html": [
       "<div>\n",
       "<style scoped>\n",
       "    .dataframe tbody tr th:only-of-type {\n",
       "        vertical-align: middle;\n",
       "    }\n",
       "\n",
       "    .dataframe tbody tr th {\n",
       "        vertical-align: top;\n",
       "    }\n",
       "\n",
       "    .dataframe thead th {\n",
       "        text-align: right;\n",
       "    }\n",
       "</style>\n",
       "<table border=\"1\" class=\"dataframe\">\n",
       "  <thead>\n",
       "    <tr style=\"text-align: right;\">\n",
       "      <th></th>\n",
       "      <th>Review ID</th>\n",
       "      <th>Review Content</th>\n",
       "    </tr>\n",
       "  </thead>\n",
       "  <tbody>\n",
       "    <tr>\n",
       "      <th>1</th>\n",
       "      <td>0bb5c5bc-4449-4173-93b7-0becb2c4d52f</td>\n",
       "      <td>Incredibly aggressive. There is no way to skip...</td>\n",
       "    </tr>\n",
       "    <tr>\n",
       "      <th>2</th>\n",
       "      <td>ef3cb9be-dc87-436e-844e-75e4a47b527b</td>\n",
       "      <td>App is nice until you need to upload a CV bigg...</td>\n",
       "    </tr>\n",
       "    <tr>\n",
       "      <th>5</th>\n",
       "      <td>4f08afcf-4dfd-46fd-be29-57b5e20e5693</td>\n",
       "      <td>Foul app. After completing Captcha, they alway...</td>\n",
       "    </tr>\n",
       "    <tr>\n",
       "      <th>10</th>\n",
       "      <td>94306004-4b1e-4384-9f24-3ddc43eefe9a</td>\n",
       "      <td>would give 0 stars if I could. terrible app, i...</td>\n",
       "    </tr>\n",
       "    <tr>\n",
       "      <th>11</th>\n",
       "      <td>2b1cefe6-41e4-4d43-96d0-784a533ad4fc</td>\n",
       "      <td>I am very much frustrated from LinkedIn becaus...</td>\n",
       "    </tr>\n",
       "  </tbody>\n",
       "</table>\n",
       "</div>"
      ],
      "text/plain": [
       "                               Review ID  \\\n",
       "1   0bb5c5bc-4449-4173-93b7-0becb2c4d52f   \n",
       "2   ef3cb9be-dc87-436e-844e-75e4a47b527b   \n",
       "5   4f08afcf-4dfd-46fd-be29-57b5e20e5693   \n",
       "10  94306004-4b1e-4384-9f24-3ddc43eefe9a   \n",
       "11  2b1cefe6-41e4-4d43-96d0-784a533ad4fc   \n",
       "\n",
       "                                       Review Content  \n",
       "1   Incredibly aggressive. There is no way to skip...  \n",
       "2   App is nice until you need to upload a CV bigg...  \n",
       "5   Foul app. After completing Captcha, they alway...  \n",
       "10  would give 0 stars if I could. terrible app, i...  \n",
       "11  I am very much frustrated from LinkedIn becaus...  "
      ]
     },
     "execution_count": 5,
     "metadata": {},
     "output_type": "execute_result"
    }
   ],
   "source": [
    "filtered_df = reviewFilter(df, keyphrases)\n",
    "filtered_df.head()"
   ]
  },
  {
   "cell_type": "code",
   "execution_count": 8,
   "metadata": {},
   "outputs": [],
   "source": [
    "directory_path = r'App Reviews\\Filtered Review'\n",
    "\n",
    "if not os.path.exists(directory_path):\n",
    "    os.makedirs(directory_path)\n",
    "\n",
    "csv_file_path = os.path.join(directory_path, 'filtered_linkedin_reviews.csv')\n",
    "filtered_df.to_csv(csv_file_path, index=False)"
   ]
  }
 ],
 "metadata": {
  "kernelspec": {
   "display_name": "venv",
   "language": "python",
   "name": "python3"
  },
  "language_info": {
   "codemirror_mode": {
    "name": "ipython",
    "version": 3
   },
   "file_extension": ".py",
   "mimetype": "text/x-python",
   "name": "python",
   "nbconvert_exporter": "python",
   "pygments_lexer": "ipython3",
   "version": "3.11.7"
  }
 },
 "nbformat": 4,
 "nbformat_minor": 2
}
