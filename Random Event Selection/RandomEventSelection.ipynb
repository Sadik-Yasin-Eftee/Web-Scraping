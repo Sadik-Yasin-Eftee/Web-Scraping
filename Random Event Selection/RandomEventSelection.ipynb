{
 "cells": [
  {
   "cell_type": "code",
   "execution_count": 1,
   "metadata": {},
   "outputs": [],
   "source": [
    "import pandas as pd\n",
    "import numpy as np"
   ]
  },
  {
   "cell_type": "code",
   "execution_count": 2,
   "metadata": {},
   "outputs": [],
   "source": [
    "facebookReview = pd.read_csv('../App Reviews/Data/Facebook.csv')\n",
    "instgramReview = pd.read_csv('../App Reviews/Data/Instagram.csv')\n",
    "linkedinReview = pd.read_csv('../App Reviews/Data/LinkedIn.csv')\n",
    "tiktokReview = pd.read_csv('../App Reviews/Data/TikTok.csv')\n",
    "twitterReview = pd.read_csv('../App Reviews/Data/Twitter.csv')\n",
    "whatsappReview = pd.read_csv('../App Reviews/Data/WhatsApp.csv')"
   ]
  },
  {
   "cell_type": "code",
   "execution_count": 3,
   "metadata": {},
   "outputs": [
    {
     "data": {
      "text/plain": [
       "(7164, 3)"
      ]
     },
     "execution_count": 3,
     "metadata": {},
     "output_type": "execute_result"
    }
   ],
   "source": [
    "df = pd.concat([facebookReview, instgramReview, linkedinReview, tiktokReview, twitterReview, whatsappReview], ignore_index= True)\n",
    "df.shape"
   ]
  },
  {
   "cell_type": "code",
   "execution_count": 4,
   "metadata": {},
   "outputs": [],
   "source": [
    "oneStarReviews = df[df['score'] == 1]\n",
    "twoStarReviews = df[df['score'] == 2]"
   ]
  },
  {
   "cell_type": "code",
   "execution_count": 6,
   "metadata": {},
   "outputs": [],
   "source": [
    "minLength = min(len(oneStarReviews), len(twoStarReviews),150)"
   ]
  },
  {
   "cell_type": "code",
   "execution_count": 7,
   "metadata": {},
   "outputs": [],
   "source": [
    "sampleOneStar = oneStarReviews.sample(n=minLength, random_state=1)\n",
    "sampleTwoStar = twoStarReviews.sample(n=minLength, random_state=1)"
   ]
  },
  {
   "cell_type": "code",
   "execution_count": 9,
   "metadata": {},
   "outputs": [],
   "source": [
    "combineSamples = pd.concat([sampleOneStar, sampleTwoStar], ignore_index= True)\n",
    "combined_samples = combineSamples.sample(frac=1, random_state=42).reset_index(drop=True)"
   ]
  },
  {
   "cell_type": "code",
   "execution_count": 11,
   "metadata": {},
   "outputs": [],
   "source": [
    "combineSamples.to_csv('../App Reviews/Random Sample/Combined_Samples.csv', index=False)"
   ]
  }
 ],
 "metadata": {
  "kernelspec": {
   "display_name": "venv",
   "language": "python",
   "name": "python3"
  },
  "language_info": {
   "codemirror_mode": {
    "name": "ipython",
    "version": 3
   },
   "file_extension": ".py",
   "mimetype": "text/x-python",
   "name": "python",
   "nbconvert_exporter": "python",
   "pygments_lexer": "ipython3",
   "version": "3.10.11"
  }
 },
 "nbformat": 4,
 "nbformat_minor": 2
}
